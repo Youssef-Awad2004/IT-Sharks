{
 "cells": [
  {
   "cell_type": "code",
   "execution_count": 1,
   "id": "263d2483",
   "metadata": {},
   "outputs": [
    {
     "name": "stdout",
     "output_type": "stream",
     "text": [
      "enter a number: 10\n",
      "01"
     ]
    }
   ],
   "source": [
    "i=10\n",
    "a=int(input('enter a number: '))\n",
    "while a>0:\n",
    "    n=a%i\n",
    "    a=(a-n)/10\n",
    "    n=int(n)\n",
    "    print(n, end='')"
   ]
  },
  {
   "cell_type": "code",
   "execution_count": 2,
   "id": "fc07229d",
   "metadata": {},
   "outputs": [
    {
     "name": "stdout",
     "output_type": "stream",
     "text": [
      "enter a number: 33\n",
      "6\n"
     ]
    }
   ],
   "source": [
    "s=0\n",
    "a=int(input('enter a number: '))\n",
    "while a>0:\n",
    "    n=a%i\n",
    "    a=(a-n)//10\n",
    "    s=n+s\n",
    "print(s)"
   ]
  },
  {
   "cell_type": "code",
   "execution_count": 3,
   "id": "748c02a4",
   "metadata": {},
   "outputs": [
    {
     "name": "stdout",
     "output_type": "stream",
     "text": [
      "enter a number: 123\n",
      "3\n",
      "not armstrong\n"
     ]
    }
   ],
   "source": [
    "s=0\n",
    "a=int(input('enter a number: '))\n",
    "x=a\n",
    "z=0\n",
    "while a>0:\n",
    "    a=a//10\n",
    "    z+=1\n",
    "print(z)\n",
    "a=x\n",
    "while a>0:\n",
    "    n=a%i\n",
    "    a=(a-n)//10\n",
    "    s=(n**z)+s\n",
    "b='armstrong' if x==s else 'not armstrong'\n",
    "print(b)"
   ]
  },
  {
   "cell_type": "code",
   "execution_count": null,
   "id": "84d546f0",
   "metadata": {},
   "outputs": [],
   "source": []
  }
 ],
 "metadata": {
  "kernelspec": {
   "display_name": "Python 3 (ipykernel)",
   "language": "python",
   "name": "python3"
  },
  "language_info": {
   "codemirror_mode": {
    "name": "ipython",
    "version": 3
   },
   "file_extension": ".py",
   "mimetype": "text/x-python",
   "name": "python",
   "nbconvert_exporter": "python",
   "pygments_lexer": "ipython3",
   "version": "3.9.12"
  }
 },
 "nbformat": 4,
 "nbformat_minor": 5
}
